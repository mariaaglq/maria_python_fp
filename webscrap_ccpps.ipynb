{
 "cells": [
  {
   "cell_type": "markdown",
   "id": "8c7117ae-fab1-40ad-bfda-584eb76dffdc",
   "metadata": {},
   "source": [
    "Indicaciones:\n",
    "- asegurarse de tener instalados todos los paquetes\n",
    "- crear una carpeta llamada \"tf\" que contenga otra carpeta llamada \"ccpps\", allí se descargará la data"
   ]
  },
  {
   "cell_type": "markdown",
   "id": "5ead4f96-f479-4bb5-b004-0891cd66013c",
   "metadata": {},
   "source": [
    "**=================== PARTE 1: WEB SCRAPPING ====================**"
   ]
  },
  {
   "cell_type": "code",
   "execution_count": 21,
   "id": "ffe47618-7d7e-4d66-8499-09b6fc8af50e",
   "metadata": {},
   "outputs": [],
   "source": [
    "import pandas as pd\n",
    "import numpy as np\n",
    "from selenium.webdriver.common.by import By\n",
    "from selenium.webdriver.support.ui import WebDriverWait\n",
    "from selenium.webdriver.support import expected_conditions as EC\n",
    "from io import StringIO\n",
    "import os\n",
    "import time\n",
    "import requests\n",
    "from selenium.webdriver.chrome.options import Options\n",
    "from selenium import webdriver\n",
    "from webdriver_manager.chrome import ChromeDriverManager"
   ]
  },
  {
   "cell_type": "markdown",
   "id": "b5335dae-a8b3-4164-b946-0b8fa37f350c",
   "metadata": {},
   "source": [
    "Preparar el setup para el webscrapping"
   ]
  },
  {
   "cell_type": "code",
   "execution_count": 22,
   "id": "d33ef152-7b1a-47d7-b6aa-197065bcc382",
   "metadata": {},
   "outputs": [],
   "source": [
    "# declarar la ruta donde se guardará el archivo xlsx que unifica los datos\n",
    "path_static = r'C:\\Users\\maria\\Documents\\qlab\\webscrap\\tf'\n",
    "os.makedirs( path_static, exist_ok = True )\n",
    "\n",
    "# declarar la ruta donde se guardarán los varios archivos xlsx obtenidos por cada ccpp\n",
    "path_dinamic = path_static + '/ccpps'\n",
    "os.makedirs( path_dinamic, exist_ok = True )"
   ]
  },
  {
   "cell_type": "code",
   "execution_count": 23,
   "id": "fd551f95-781d-406a-9740-3692b86a701a",
   "metadata": {},
   "outputs": [],
   "source": [
    "# Indicar las opciones deseadas del chrome driver\n",
    "from selenium import webdriver\n",
    "from selenium.webdriver.chrome.service import Service\n",
    "from selenium.webdriver.chrome.options import Options\n",
    "from selenium.webdriver.support.ui import Select\n",
    "from selenium.webdriver.common.by import By\n",
    "import pyautogui\n",
    "import time\n",
    "\n",
    "# Ruta donde se guardarán los archivos\n",
    "download_directory = r\"C:\\Users\\maria\\Documents\\qlab\\webscrap\\tf\"\n",
    "\n",
    "# Crear la carpeta si no existe\n",
    "if not os.path.exists(download_directory):\n",
    "    os.makedirs(download_directory)\n",
    "\n",
    "# Configurar opciones de Chrome\n",
    "chrome_options = Options()\n",
    "chrome_options.add_argument(\"--start-maximized\")\n",
    "chrome_options.add_experimental_option(\"prefs\", {\n",
    "    \"profile.default_content_settings.popups\": 0,\n",
    "    \"download.default_directory\": download_directory,  # Define la carpeta de descargas\n",
    "    \"download.prompt_for_download\": False,\n",
    "    \"download.directory_upgrade\": True,\n",
    "    \"safebrowsing.enabled\": True,\n",
    "    \"safebrowsing.disable_download_protection\": True  # Permitir descargas bloqueadas\n",
    "})\n",
    "\n",
    "# Inicializar el navegador con opciones\n",
    "driver = webdriver.Chrome(service=Service(), options=chrome_options)\n",
    "\n",
    "# Maximizar ventana\n",
    "driver.maximize_window()"
   ]
  },
  {
   "cell_type": "code",
   "execution_count": 24,
   "id": "4725102e-be5c-4b0b-a878-90ca92ce8fd0",
   "metadata": {},
   "outputs": [],
   "source": [
    "# indicar la URL que deseamos scrappear\n",
    "url = \"http://sige.inei.gob.pe/test/atlas/\"\n",
    "\n",
    "# Abrir el navegador de chrome en esa URL\n",
    "driver.get(url) "
   ]
  },
  {
   "cell_type": "markdown",
   "id": "98f7d1bf-5940-4887-8644-24833cabfdd4",
   "metadata": {},
   "source": [
    "Determinar coordenadas donde se harán los  clics para la descarga de datos.\n",
    "- **OJO:**\n",
    "- Los valores guardados en este código están adaptados a pantallas de 1920 x 1080. Si la pantalla actual es de ese tamaño, Pasar al bloque \"Bucle que descarga data de los centros poblados desde la web\"\n",
    "- Si la pantalla donde se ejecuta este código es de tamaño distinto, ejecutar los siguientes bloques "
   ]
  },
  {
   "cell_type": "code",
   "execution_count": 11,
   "id": "55dd7fb1-1f9f-4cb8-986c-4a4f2bc3877c",
   "metadata": {},
   "outputs": [],
   "source": [
    "# Importamos las bibliotecas necesarias\n",
    "import pyautogui  # Para obtener la posición del cursor del mouse\n",
    "import keyboard  # Para detectar pulsaciones de teclas\n",
    "import time  # Para manejar tiempos y pausas en la ejecución"
   ]
  },
  {
   "cell_type": "code",
   "execution_count": 12,
   "id": "9bc3088e-9c59-4c98-abc2-69d1740f0f2e",
   "metadata": {},
   "outputs": [
    {
     "name": "stdout",
     "output_type": "stream",
     "text": [
      "Presiona 'z' para capturar la posición del cursor. Presiona 'Esc' para salir.\n"
     ]
    }
   ],
   "source": [
    "# Inicializamos una variable para controlar el tiempo entre capturas\n",
    "stop = 0  # Se usa para evitar múltiples capturas seguidas\n",
    "\n",
    "print(\"Presiona 'z' para capturar la posición del cursor. Presiona 'Esc' para salir.\")"
   ]
  },
  {
   "cell_type": "markdown",
   "id": "002f35a2-95a0-48b3-a108-7f642c881efc",
   "metadata": {},
   "source": [
    "Seguir estas instrucciones: \n",
    "1. cambiar a la ventana abierta en chrome,\n",
    "2. Seleccionar Departameno: Huánuco,\n",
    "3. Seleccionar Provincia: Dos de mayo,\n",
    "4. Seleccionar distrito: Chuquis,\n",
    "5. Seleccionar el primer centro poblado de la lista.\n",
    "6. ejecutar el bloque de código.\n",
    "7. Hacer clic en el punto del centro poblado, presionar la tecla 'z',\n",
    "8. clic en el botón \"salir\", presionar 'z',\n",
    "9. Presionar la tecla 'Esc' del teclado. Las coordenadas de ambos clics se guardarán y usarán más adelante."
   ]
  },
  {
   "cell_type": "code",
   "execution_count": 13,
   "id": "8a3de69f-24e5-4c77-83a1-5f63685fca0e",
   "metadata": {},
   "outputs": [
    {
     "name": "stdout",
     "output_type": "stream",
     "text": [
      "Coordenadas capturadas: X = 1191, Y = 695\n",
      "Coordenadas capturadas: X = 600, Y = 959\n",
      "Salida manual detectada. Finalizando el programa.\n"
     ]
    }
   ],
   "source": [
    "# Lista para almacenar coordenadas\n",
    "capturas2 = [] \n",
    "\n",
    "# Bucle infinito que mantiene el programa en ejecución\n",
    "while True:\n",
    "    start = time.time()  # Guarda el tiempo actual en segundos\n",
    "    \n",
    "    # Verificamos si la tecla 'z' ha sido presionada y si ha pasado más de 1 segundo desde la última captura\n",
    "    if keyboard.is_pressed('z') and (start - stop) > 1:\n",
    "        \n",
    "        # Captura la posición actual del cursor del mouse\n",
    "        position = pyautogui.position()\n",
    "\n",
    "        # Agregar coordenadas a la lista\n",
    "        capturas2.append((position.x, position.y))\n",
    "        \n",
    "        # Muestra las coordenadas X e Y en la terminal\n",
    "        print(f\"Coordenadas capturadas: X = {position.x}, Y = {position.y}\")\n",
    "        \n",
    "        # Actualiza el tiempo de la última captura para evitar registros duplicados\n",
    "        stop = time.time()\n",
    "\n",
    "    # Permitir salir del script con 'ESC'\n",
    "    if keyboard.is_pressed('esc'):\n",
    "        print(\"Salida manual detectada. Finalizando el programa.\")\n",
    "        break\n",
    "    \n",
    "    # Pequeña pausa para reducir el uso de CPU y mejorar la eficiencia del script\n",
    "    time.sleep(0.1)"
   ]
  },
  {
   "cell_type": "code",
   "execution_count": 14,
   "id": "5910d8c5-a40d-4d13-852f-2f852f646e39",
   "metadata": {},
   "outputs": [
    {
     "data": {
      "text/plain": [
       "[(1191, 695), (600, 959)]"
      ]
     },
     "execution_count": 14,
     "metadata": {},
     "output_type": "execute_result"
    }
   ],
   "source": [
    "capturas2"
   ]
  },
  {
   "cell_type": "markdown",
   "id": "176148bc-d2c2-4365-b692-c8b741187202",
   "metadata": {},
   "source": [
    "Al finalizar el bloque anterior se habrá obtenido una lista con 2 elementos: [coordenada1] y [coordenada2] que se deberán reemplazar donde el código lo indique"
   ]
  },
  {
   "cell_type": "markdown",
   "id": "5522778d-e1fe-42d0-a0aa-50004743dec3",
   "metadata": {},
   "source": [
    "**Bucle que descarga data de los centros poblados desde la web**\n",
    "- Aquí se reemplazan las coordenadas obtenidas pasos atrás, si la pantalla es de tamaño distinto a 1920 x 1080\n",
    "- Si la pantalla es de 1920 x 1080, no se necesita cambiar nada en el código"
   ]
  },
  {
   "cell_type": "code",
   "execution_count": 7,
   "id": "47110acf-7ace-4a61-9ee3-9a69cba952ef",
   "metadata": {
    "scrolled": true
   },
   "outputs": [
    {
     "name": "stdout",
     "output_type": "stream",
     "text": [
      "Número total de distritos: 9\n",
      "Distritos de la provincia: ['CHUQUIS', 'LA UNION', 'MARIAS', 'PACHAS', 'QUIVILLA', 'RIPAN', 'SHUNQUI', 'SILLAPATA', 'YANAS']\n",
      "Seleccionando distrito: CHUQUIS\n",
      "En CHUQUIS el número total de centros poblados es 80\n",
      "Centros poblados seleccionados en CHUQUIS: ['', 'SHIURICO', 'USHPAPAMPA']\n",
      "Error con  en CHUQUIS: Message: element not interactable\n",
      "  (Session info: chrome=134.0.6998.178)\n",
      "Stacktrace:\n",
      "\tGetHandleVerifier [0x00007FF6CF2B4C25+3179557]\n",
      "\t(No symbol) [0x00007FF6CEF188A0]\n",
      "\t(No symbol) [0x00007FF6CEDA8FFC]\n",
      "\t(No symbol) [0x00007FF6CEE00EA4]\n",
      "\t(No symbol) [0x00007FF6CEDF2A24]\n",
      "\t(No symbol) [0x00007FF6CEE27C2A]\n",
      "\t(No symbol) [0x00007FF6CEDF22D6]\n",
      "\t(No symbol) [0x00007FF6CEE27E40]\n",
      "\t(No symbol) [0x00007FF6CEE502F3]\n",
      "\t(No symbol) [0x00007FF6CEE27A03]\n",
      "\t(No symbol) [0x00007FF6CEDF06D0]\n",
      "\t(No symbol) [0x00007FF6CEDF1983]\n",
      "\tGetHandleVerifier [0x00007FF6CF3167CD+3579853]\n",
      "\tGetHandleVerifier [0x00007FF6CF32D1D2+3672530]\n",
      "\tGetHandleVerifier [0x00007FF6CF322153+3627347]\n",
      "\tGetHandleVerifier [0x00007FF6CF08092A+868650]\n",
      "\t(No symbol) [0x00007FF6CEF22FFF]\n",
      "\t(No symbol) [0x00007FF6CEF1F4A4]\n",
      "\t(No symbol) [0x00007FF6CEF1F646]\n",
      "\t(No symbol) [0x00007FF6CEF0EAA9]\n",
      "\tBaseThreadInitThunk [0x00007FFE9152E8D7+23]\n",
      "\tRtlUserThreadStart [0x00007FFE9259BF6C+44]\n",
      "\n",
      "Archivo SHIURICO.xlsx guardado con éxito\n",
      "Archivo USHPAPAMPA.xlsx guardado con éxito\n",
      "Seleccionando distrito: LA UNION\n",
      "En LA UNION el número total de centros poblados es 38\n",
      "Centros poblados seleccionados en LA UNION: ['YANAN PAMPA LLAMPAS', 'HUEGUETOG', 'PUEBLO VIEJO']\n",
      "Archivo YANAN PAMPA LLAMPAS.xlsx guardado con éxito\n",
      "Archivo HUEGUETOG.xlsx guardado con éxito\n",
      "Archivo PUEBLO VIEJO.xlsx guardado con éxito\n",
      "Seleccionando distrito: MARIAS\n",
      "En MARIAS el número total de centros poblados es 131\n",
      "Centros poblados seleccionados en MARIAS: ['MARIAS PAMPA', 'TANTACOTO', 'MARAY']\n",
      "Archivo MARIAS PAMPA.xlsx guardado con éxito\n",
      "Archivo TANTACOTO.xlsx guardado con éxito\n",
      "Archivo MARAY.xlsx guardado con éxito\n",
      "Seleccionando distrito: PACHAS\n",
      "En PACHAS el número total de centros poblados es 181\n",
      "Centros poblados seleccionados en PACHAS: ['CAJON PUQUIO', 'COLLOTA', 'HUANZAYLO']\n",
      "Archivo CAJON PUQUIO.xlsx guardado con éxito\n",
      "Archivo COLLOTA.xlsx guardado con éxito\n",
      "Archivo HUANZAYLO.xlsx guardado con éxito\n",
      "Seleccionando distrito: QUIVILLA\n",
      "En QUIVILLA el número total de centros poblados es 51\n",
      "Centros poblados seleccionados en QUIVILLA: ['ERA PATA', 'ICHIC RUPA HUAIN', 'GITANA']\n",
      "Archivo ERA PATA.xlsx guardado con éxito\n",
      "Archivo ICHIC RUPA HUAIN.xlsx guardado con éxito\n",
      "Archivo GITANA.xlsx guardado con éxito\n",
      "Seleccionando distrito: RIPAN\n",
      "En RIPAN el número total de centros poblados es 95\n",
      "Centros poblados seleccionados en RIPAN: ['PITEG', 'SHAPAN HUANCA', 'ICHIC LLEGLLISH']\n",
      "Archivo PITEG.xlsx guardado con éxito\n",
      "Archivo SHAPAN HUANCA.xlsx guardado con éxito\n",
      "Archivo ICHIC LLEGLLISH.xlsx guardado con éxito\n",
      "Seleccionando distrito: SHUNQUI\n",
      "En SHUNQUI el número total de centros poblados es 50\n",
      "Centros poblados seleccionados en SHUNQUI: ['TANTASH', 'SHUNQUI', 'PUCUTIN']\n",
      "Archivo TANTASH.xlsx guardado con éxito\n",
      "Archivo SHUNQUI.xlsx guardado con éxito\n",
      "Archivo PUCUTIN.xlsx guardado con éxito\n",
      "Seleccionando distrito: SILLAPATA\n",
      "En SILLAPATA el número total de centros poblados es 75\n",
      "Centros poblados seleccionados en SILLAPATA: ['CHIPTAC', 'CULEG CHICO', 'CHALIACO']\n",
      "Archivo CHIPTAC.xlsx guardado con éxito\n",
      "Archivo CULEG CHICO.xlsx guardado con éxito\n",
      "Archivo CHALIACO.xlsx guardado con éxito\n",
      "Seleccionando distrito: YANAS\n",
      "En YANAS el número total de centros poblados es 61\n",
      "Centros poblados seleccionados en YANAS: ['YANAS', 'CUNCAYOC', 'PACAY']\n",
      "Archivo YANAS.xlsx guardado con éxito\n",
      "Archivo CUNCAYOC.xlsx guardado con éxito\n",
      "Archivo PACAY.xlsx guardado con éxito\n",
      "Extracción finalizada.\n"
     ]
    }
   ],
   "source": [
    "\n",
    "time.sleep(5) # 5 segundos para cambiar manualmente de ventana al navegador de chrome abierto previamente\n",
    "\n",
    "import random\n",
    "# Fijar la semilla para reproducibilidad\n",
    "random.seed(123)\n",
    "\n",
    "# Seleccionar HUANUCO en el combo de Departamento\n",
    "departamentos = Select(driver.find_element(By.ID, \"cboDepartamento\"))\n",
    "departamentos.select_by_visible_text(\"HUANUCO\")\n",
    "time.sleep(2)\n",
    "\n",
    "# Seleccionar LA UNION en el combo de Provincia\n",
    "provincias = Select(driver.find_element(By.ID, \"cboProvincia\"))\n",
    "provincias.select_by_visible_text(\"DOS DE MAYO\")\n",
    "time.sleep(2)\n",
    "\n",
    "# Obtener la lista de distritos en la provincia\n",
    "distritos = Select(driver.find_element(By.ID, \"cboDistrito\"))\n",
    "distrito_options = distritos.options[1:]  # Ignorar la primera opción que suele ser \"Seleccione\"\n",
    "\n",
    "# Contar y mostrar cuántos centros poblados hay\n",
    "print(f\"Número total de distritos: {len(distrito_options)}\")\n",
    "\n",
    "# Obtener y mostrar los nombres de los centros poblados\n",
    "nombres_distritos = [distrito.text for distrito in distrito_options]\n",
    "print(\"Distritos de la provincia:\", nombres_distritos)\n",
    "\n",
    "# Iterar sobre todos los distritos\n",
    "for distrito in distrito_options:\n",
    "    distritos.select_by_visible_text(distrito.text)\n",
    "    print(f\"Seleccionando distrito: {distrito.text}\")\n",
    "    time.sleep(5)  # Esperar a que carguen los centros poblados\n",
    "\n",
    "    # Obtener la lista de centros poblados en el distrito\n",
    "    centros_poblados = driver.find_elements(By.XPATH, \"//a[contains(@href, 'mapa_centropoblado')]\")\n",
    "\n",
    "    # Contar y mostrar cuántos centros poblados hay\n",
    "    print(f\"En {distrito.text} el número total de centros poblados es {len(centros_poblados)}\")\n",
    "\n",
    "    # Seleccionar 3 centros poblados al azar\n",
    "    centros_seleccionados = random.sample(centros_poblados, min(3, len(centros_poblados)))\n",
    "    print(f\"Centros poblados seleccionados en {distrito.text}:\", [centro.text for centro in centros_seleccionados])\n",
    "    \n",
    "    # Iterar solo sobre los centros poblados seleccionados\n",
    "    for centro in centros_seleccionados:\n",
    "        try:\n",
    "            # Hacer clic en el centro poblado\n",
    "            centro.click()\n",
    "            time.sleep(3)  # Esperar a que cargue el centro poblado en el mapa\n",
    "\n",
    "            # Mover el mouse a {coordenadas 1} y hacer doble clic para desplegar información\n",
    "            pyautogui.moveTo(1191, 695, duration=0.5) # <------------REEMPLAZAR AQUI\n",
    "            pyautogui.doubleClick()\n",
    "            time.sleep(3)  # Esperar a que aparezca la información\n",
    "\n",
    "            # Insertar el xpath de la tabla buscada\n",
    "            table_element = driver.find_element(By.ID, \"tblArea_informacion\")\n",
    "            table_html = table_element.get_attribute('outerHTML')\n",
    "            table_html_io = StringIO(table_html)\n",
    "\n",
    "            # Traducir la tabla html a un dataframe\n",
    "            table_df = pd.read_html(table_html_io)[0]\n",
    "\n",
    "            # Determinar la ruta dinámica donde se quiere guardar la tabla correspondiente\n",
    "            path_table = path_dinamic + f'/tabla_{distrito.text}_{centro.text}.xlsx'\n",
    "            # Guardar el dataframe en el archivo de excel correspondiente según la numeración\n",
    "            table_df.to_excel(path_table, index=False)\n",
    "            print(f\"Archivo {centro.text}.xlsx guardado con éxito\")\n",
    "\n",
    "            # Mover el mouse a {coordenadas 2} y hacer salir al siguiente\n",
    "            pyautogui.moveTo(602, 960, duration=0.5) # <------------REEMPLAZAR AQUI\n",
    "            pyautogui.click()\n",
    "            time.sleep(5)  # Esperar a que la descarga se complete antes de continuar\n",
    "\n",
    "        except Exception as e:\n",
    "            print(f\"Error con {centro.text} en {distrito.text}: {e}\")\n",
    "\n",
    "print(\"Extracción finalizada.\")\n"
   ]
  },
  {
   "cell_type": "markdown",
   "id": "36ed3bf8-c6a5-4bf3-941a-529f9ce44d7e",
   "metadata": {},
   "source": [
    "**-------- PARTE 2: Consolidar en 1 base de datos los elemento descargados --------**"
   ]
  },
  {
   "cell_type": "code",
   "execution_count": 25,
   "id": "dbc97dd3-de10-49fe-a075-5bda4c6221ef",
   "metadata": {
    "scrolled": true
   },
   "outputs": [
    {
     "data": {
      "text/plain": [
       "['tabla_CHUQUIS_SAN FRANCISCO DE CASHA.xlsx',\n",
       " 'tabla_CHUQUIS_SHIURICO.xlsx',\n",
       " 'tabla_CHUQUIS_USHPAPAMPA.xlsx',\n",
       " 'tabla_LA UNION_HUEGUETOG.xlsx',\n",
       " 'tabla_LA UNION_PUEBLO VIEJO.xlsx',\n",
       " 'tabla_LA UNION_YANAN PAMPA LLAMPAS.xlsx',\n",
       " 'tabla_MARIAS_MARAY.xlsx',\n",
       " 'tabla_MARIAS_MARIAS PAMPA.xlsx',\n",
       " 'tabla_MARIAS_TANTACOTO.xlsx',\n",
       " 'tabla_PACHAS_CAJON PUQUIO.xlsx',\n",
       " 'tabla_PACHAS_COLLOTA.xlsx',\n",
       " 'tabla_PACHAS_HUANZAYLO.xlsx',\n",
       " 'tabla_QUIVILLA_ERA PATA.xlsx',\n",
       " 'tabla_QUIVILLA_GITANA.xlsx',\n",
       " 'tabla_QUIVILLA_ICHIC RUPA HUAIN.xlsx',\n",
       " 'tabla_RIPAN_ICHIC LLEGLLISH.xlsx',\n",
       " 'tabla_RIPAN_PITEG.xlsx',\n",
       " 'tabla_RIPAN_SHAPAN HUANCA.xlsx',\n",
       " 'tabla_SHUNQUI_PUCUTIN.xlsx',\n",
       " 'tabla_SHUNQUI_SHUNQUI.xlsx',\n",
       " 'tabla_SHUNQUI_TANTASH.xlsx',\n",
       " 'tabla_SILLAPATA_CHALIACO.xlsx',\n",
       " 'tabla_SILLAPATA_CHIPTAC.xlsx',\n",
       " 'tabla_SILLAPATA_CULEG CHICO.xlsx',\n",
       " 'tabla_YANAS_CUNCAYOC.xlsx',\n",
       " 'tabla_YANAS_PACAY.xlsx',\n",
       " 'tabla_YANAS_YANAS.xlsx']"
      ]
     },
     "execution_count": 25,
     "metadata": {},
     "output_type": "execute_result"
    }
   ],
   "source": [
    "#busca archivos de la carpeta donde se guardaron los excels\n",
    "files = os.listdir(path_dinamic)\n",
    "files"
   ]
  },
  {
   "cell_type": "code",
   "execution_count": 26,
   "id": "46cd4f89-2067-4b47-97e3-48bab41ac93c",
   "metadata": {
    "scrolled": true
   },
   "outputs": [
    {
     "name": "stdout",
     "output_type": "stream",
     "text": [
      " Trabajando con tabla_CHUQUIS_SAN FRANCISCO DE CASHA.xlsx\n",
      " Trabajando con tabla_CHUQUIS_SHIURICO.xlsx\n",
      " Trabajando con tabla_CHUQUIS_USHPAPAMPA.xlsx\n",
      " Trabajando con tabla_LA UNION_HUEGUETOG.xlsx\n",
      " Trabajando con tabla_LA UNION_PUEBLO VIEJO.xlsx\n",
      " Trabajando con tabla_LA UNION_YANAN PAMPA LLAMPAS.xlsx\n",
      " Trabajando con tabla_MARIAS_MARAY.xlsx\n",
      " Trabajando con tabla_MARIAS_MARIAS PAMPA.xlsx\n",
      " Trabajando con tabla_MARIAS_TANTACOTO.xlsx\n",
      " Trabajando con tabla_PACHAS_CAJON PUQUIO.xlsx\n",
      " Trabajando con tabla_PACHAS_COLLOTA.xlsx\n",
      " Trabajando con tabla_PACHAS_HUANZAYLO.xlsx\n",
      " Trabajando con tabla_QUIVILLA_ERA PATA.xlsx\n",
      " Trabajando con tabla_QUIVILLA_GITANA.xlsx\n",
      " Trabajando con tabla_QUIVILLA_ICHIC RUPA HUAIN.xlsx\n",
      " Trabajando con tabla_RIPAN_ICHIC LLEGLLISH.xlsx\n",
      " Trabajando con tabla_RIPAN_PITEG.xlsx\n",
      " Trabajando con tabla_RIPAN_SHAPAN HUANCA.xlsx\n",
      " Trabajando con tabla_SHUNQUI_PUCUTIN.xlsx\n",
      " Trabajando con tabla_SHUNQUI_SHUNQUI.xlsx\n",
      " Trabajando con tabla_SHUNQUI_TANTASH.xlsx\n",
      " Trabajando con tabla_SILLAPATA_CHALIACO.xlsx\n",
      " Trabajando con tabla_SILLAPATA_CHIPTAC.xlsx\n",
      " Trabajando con tabla_SILLAPATA_CULEG CHICO.xlsx\n",
      " Trabajando con tabla_YANAS_CUNCAYOC.xlsx\n",
      " Trabajando con tabla_YANAS_PACAY.xlsx\n",
      " Trabajando con tabla_YANAS_YANAS.xlsx\n"
     ]
    }
   ],
   "source": [
    "#crear dataframe vacío donde se guardará la información de interés\n",
    "datos_df = pd.DataFrame(columns=[\"distrito\",\"ccpp\", \"time_cap\", \"dist_salud\"]) \n",
    "\n",
    "# Bucle: abrir cada archivo de la lista\n",
    "for i, file in enumerate(files):\n",
    "    data = pd.read_excel(f\"{path_dinamic}/{file}\")\n",
    "    print(f\" Trabajando con {file}\")\n",
    "\n",
    "    # seleccionar la data deseada\n",
    "    capital = data.iloc[18,1] # minutos a capital del distrito\n",
    "    pueblo = data.iloc[4,1]\n",
    "    district = data.iloc[3,1]\n",
    "    salud = data.iloc[21,1] # centro de salud km\n",
    "\n",
    "    # Agregar la data de ese ccpp a una nueva fila del dataframe\n",
    "    datos_df.loc[i] = [district, pueblo, capital, salud]"
   ]
  },
  {
   "cell_type": "code",
   "execution_count": 5,
   "id": "d269d6d0-5361-43b5-8b76-44a5c818cf3b",
   "metadata": {},
   "outputs": [],
   "source": [
    "# exportar el dataframe a un archivo excel\n",
    "datos_df.to_excel(f\"{path_static}/datos.xlsx\", index=False)"
   ]
  },
  {
   "cell_type": "code",
   "execution_count": 16,
   "id": "867de894-4f50-4bde-a448-e70fa1fe2f69",
   "metadata": {},
   "outputs": [],
   "source": [
    "#En caso de correr desde aquí\n",
    "# Abrir dataframe datos_df desde excel guardado\n",
    "#datos_df = pd.read_excel(f\"{path_static}/datos.xlsx\")"
   ]
  },
  {
   "cell_type": "code",
   "execution_count": 27,
   "id": "474f252b-e099-4617-88a9-ba234133f8f9",
   "metadata": {},
   "outputs": [
    {
     "name": "stdout",
     "output_type": "stream",
     "text": [
      "<class 'pandas.core.frame.DataFrame'>\n",
      "Index: 27 entries, 0 to 26\n",
      "Data columns (total 4 columns):\n",
      " #   Column      Non-Null Count  Dtype \n",
      "---  ------      --------------  ----- \n",
      " 0   distrito    27 non-null     object\n",
      " 1   ccpp        27 non-null     object\n",
      " 2   time_cap    27 non-null     object\n",
      " 3   dist_salud  27 non-null     object\n",
      "dtypes: object(4)\n",
      "memory usage: 1.1+ KB\n"
     ]
    }
   ],
   "source": [
    "datos_df.info()\n",
    "#Si este output indica que time_cap y dist_salud son de tipo numerico, saltar el siguiente codigo"
   ]
  },
  {
   "cell_type": "code",
   "execution_count": 28,
   "id": "70759b5c-9cdb-4bc8-9c46-4df96f7b329b",
   "metadata": {},
   "outputs": [],
   "source": [
    "#si time_cap y dist_salud son de tipo object, correr este código\n",
    "datos_df[\"time_cap\"] = pd.to_numeric(datos_df[\"time_cap\"])\n",
    "datos_df[\"dist_salud\"] = pd.to_numeric(datos_df[\"dist_salud\"])"
   ]
  },
  {
   "cell_type": "code",
   "execution_count": 29,
   "id": "cee43681-5d47-469d-a751-a76762c1abc8",
   "metadata": {
    "scrolled": true
   },
   "outputs": [
    {
     "data": {
      "text/html": [
       "<div>\n",
       "<style scoped>\n",
       "    .dataframe tbody tr th:only-of-type {\n",
       "        vertical-align: middle;\n",
       "    }\n",
       "\n",
       "    .dataframe tbody tr th {\n",
       "        vertical-align: top;\n",
       "    }\n",
       "\n",
       "    .dataframe thead th {\n",
       "        text-align: right;\n",
       "    }\n",
       "</style>\n",
       "<table border=\"1\" class=\"dataframe\">\n",
       "  <thead>\n",
       "    <tr style=\"text-align: right;\">\n",
       "      <th></th>\n",
       "      <th>distrito</th>\n",
       "      <th>ccpp</th>\n",
       "      <th>time_cap</th>\n",
       "      <th>dist_salud</th>\n",
       "    </tr>\n",
       "  </thead>\n",
       "  <tbody>\n",
       "    <tr>\n",
       "      <th>0</th>\n",
       "      <td>CHUQUIS</td>\n",
       "      <td>SAN FRANCISCO DE CASHA</td>\n",
       "      <td>0</td>\n",
       "      <td>9.26</td>\n",
       "    </tr>\n",
       "    <tr>\n",
       "      <th>1</th>\n",
       "      <td>CHUQUIS</td>\n",
       "      <td>SHIURICO</td>\n",
       "      <td>60</td>\n",
       "      <td>9.05</td>\n",
       "    </tr>\n",
       "    <tr>\n",
       "      <th>2</th>\n",
       "      <td>CHUQUIS</td>\n",
       "      <td>USHPAPAMPA</td>\n",
       "      <td>120</td>\n",
       "      <td>3.65</td>\n",
       "    </tr>\n",
       "    <tr>\n",
       "      <th>3</th>\n",
       "      <td>LA UNION</td>\n",
       "      <td>HUEGUETOG</td>\n",
       "      <td>70</td>\n",
       "      <td>8.65</td>\n",
       "    </tr>\n",
       "    <tr>\n",
       "      <th>4</th>\n",
       "      <td>LA UNION</td>\n",
       "      <td>PUEBLO VIEJO</td>\n",
       "      <td>40</td>\n",
       "      <td>1.06</td>\n",
       "    </tr>\n",
       "    <tr>\n",
       "      <th>5</th>\n",
       "      <td>LA UNION</td>\n",
       "      <td>YANAN PAMPA LLAMPAS</td>\n",
       "      <td>180</td>\n",
       "      <td>18.47</td>\n",
       "    </tr>\n",
       "    <tr>\n",
       "      <th>6</th>\n",
       "      <td>MARIAS</td>\n",
       "      <td>MARAY</td>\n",
       "      <td>240</td>\n",
       "      <td>7.53</td>\n",
       "    </tr>\n",
       "    <tr>\n",
       "      <th>7</th>\n",
       "      <td>MARIAS</td>\n",
       "      <td>MARIAS PAMPA</td>\n",
       "      <td>30</td>\n",
       "      <td>8.29</td>\n",
       "    </tr>\n",
       "    <tr>\n",
       "      <th>8</th>\n",
       "      <td>MARIAS</td>\n",
       "      <td>TANTACOTO</td>\n",
       "      <td>180</td>\n",
       "      <td>0.10</td>\n",
       "    </tr>\n",
       "    <tr>\n",
       "      <th>9</th>\n",
       "      <td>PACHAS</td>\n",
       "      <td>CAJON PUQUIO</td>\n",
       "      <td>300</td>\n",
       "      <td>17.73</td>\n",
       "    </tr>\n",
       "    <tr>\n",
       "      <th>10</th>\n",
       "      <td>PACHAS</td>\n",
       "      <td>COLLOTA</td>\n",
       "      <td>300</td>\n",
       "      <td>28.35</td>\n",
       "    </tr>\n",
       "    <tr>\n",
       "      <th>11</th>\n",
       "      <td>PACHAS</td>\n",
       "      <td>HUANZAYLO</td>\n",
       "      <td>45</td>\n",
       "      <td>11.60</td>\n",
       "    </tr>\n",
       "    <tr>\n",
       "      <th>12</th>\n",
       "      <td>QUIVILLA</td>\n",
       "      <td>ERA PATA</td>\n",
       "      <td>10</td>\n",
       "      <td>0.93</td>\n",
       "    </tr>\n",
       "    <tr>\n",
       "      <th>13</th>\n",
       "      <td>QUIVILLA</td>\n",
       "      <td>GITANA</td>\n",
       "      <td>20</td>\n",
       "      <td>4.11</td>\n",
       "    </tr>\n",
       "    <tr>\n",
       "      <th>14</th>\n",
       "      <td>QUIVILLA</td>\n",
       "      <td>ICHIC RUPA HUAIN</td>\n",
       "      <td>30</td>\n",
       "      <td>12.81</td>\n",
       "    </tr>\n",
       "    <tr>\n",
       "      <th>15</th>\n",
       "      <td>RIPAN</td>\n",
       "      <td>ICHIC LLEGLLISH</td>\n",
       "      <td>180</td>\n",
       "      <td>4.02</td>\n",
       "    </tr>\n",
       "    <tr>\n",
       "      <th>16</th>\n",
       "      <td>RIPAN</td>\n",
       "      <td>PITEG</td>\n",
       "      <td>90</td>\n",
       "      <td>5.73</td>\n",
       "    </tr>\n",
       "    <tr>\n",
       "      <th>17</th>\n",
       "      <td>RIPAN</td>\n",
       "      <td>SHAPAN HUANCA</td>\n",
       "      <td>130</td>\n",
       "      <td>8.88</td>\n",
       "    </tr>\n",
       "    <tr>\n",
       "      <th>18</th>\n",
       "      <td>SHUNQUI</td>\n",
       "      <td>PUCUTIN</td>\n",
       "      <td>150</td>\n",
       "      <td>5.28</td>\n",
       "    </tr>\n",
       "    <tr>\n",
       "      <th>19</th>\n",
       "      <td>SHUNQUI</td>\n",
       "      <td>SHUNQUI</td>\n",
       "      <td>0</td>\n",
       "      <td>0.11</td>\n",
       "    </tr>\n",
       "    <tr>\n",
       "      <th>20</th>\n",
       "      <td>SHUNQUI</td>\n",
       "      <td>TANTASH</td>\n",
       "      <td>45</td>\n",
       "      <td>3.14</td>\n",
       "    </tr>\n",
       "    <tr>\n",
       "      <th>21</th>\n",
       "      <td>SILLAPATA</td>\n",
       "      <td>CHALIACO</td>\n",
       "      <td>20</td>\n",
       "      <td>1.93</td>\n",
       "    </tr>\n",
       "    <tr>\n",
       "      <th>22</th>\n",
       "      <td>SILLAPATA</td>\n",
       "      <td>CHIPTAC</td>\n",
       "      <td>15</td>\n",
       "      <td>3.44</td>\n",
       "    </tr>\n",
       "    <tr>\n",
       "      <th>23</th>\n",
       "      <td>SILLAPATA</td>\n",
       "      <td>CULEG CHICO</td>\n",
       "      <td>195</td>\n",
       "      <td>5.36</td>\n",
       "    </tr>\n",
       "    <tr>\n",
       "      <th>24</th>\n",
       "      <td>YANAS</td>\n",
       "      <td>CUNCAYOC</td>\n",
       "      <td>45</td>\n",
       "      <td>1.52</td>\n",
       "    </tr>\n",
       "    <tr>\n",
       "      <th>25</th>\n",
       "      <td>YANAS</td>\n",
       "      <td>PACAY</td>\n",
       "      <td>30</td>\n",
       "      <td>8.73</td>\n",
       "    </tr>\n",
       "    <tr>\n",
       "      <th>26</th>\n",
       "      <td>YANAS</td>\n",
       "      <td>YANAS</td>\n",
       "      <td>0</td>\n",
       "      <td>0.48</td>\n",
       "    </tr>\n",
       "  </tbody>\n",
       "</table>\n",
       "</div>"
      ],
      "text/plain": [
       "     distrito                    ccpp  time_cap  dist_salud\n",
       "0     CHUQUIS  SAN FRANCISCO DE CASHA         0        9.26\n",
       "1     CHUQUIS                SHIURICO        60        9.05\n",
       "2     CHUQUIS              USHPAPAMPA       120        3.65\n",
       "3    LA UNION               HUEGUETOG        70        8.65\n",
       "4    LA UNION            PUEBLO VIEJO        40        1.06\n",
       "5    LA UNION     YANAN PAMPA LLAMPAS       180       18.47\n",
       "6      MARIAS                   MARAY       240        7.53\n",
       "7      MARIAS            MARIAS PAMPA        30        8.29\n",
       "8      MARIAS               TANTACOTO       180        0.10\n",
       "9      PACHAS            CAJON PUQUIO       300       17.73\n",
       "10     PACHAS                 COLLOTA       300       28.35\n",
       "11     PACHAS               HUANZAYLO        45       11.60\n",
       "12   QUIVILLA                ERA PATA        10        0.93\n",
       "13   QUIVILLA                  GITANA        20        4.11\n",
       "14   QUIVILLA        ICHIC RUPA HUAIN        30       12.81\n",
       "15      RIPAN         ICHIC LLEGLLISH       180        4.02\n",
       "16      RIPAN                   PITEG        90        5.73\n",
       "17      RIPAN           SHAPAN HUANCA       130        8.88\n",
       "18    SHUNQUI                 PUCUTIN       150        5.28\n",
       "19    SHUNQUI                 SHUNQUI         0        0.11\n",
       "20    SHUNQUI                 TANTASH        45        3.14\n",
       "21  SILLAPATA                CHALIACO        20        1.93\n",
       "22  SILLAPATA                 CHIPTAC        15        3.44\n",
       "23  SILLAPATA             CULEG CHICO       195        5.36\n",
       "24      YANAS                CUNCAYOC        45        1.52\n",
       "25      YANAS                   PACAY        30        8.73\n",
       "26      YANAS                   YANAS         0        0.48"
      ]
     },
     "execution_count": 29,
     "metadata": {},
     "output_type": "execute_result"
    }
   ],
   "source": [
    "datos_df"
   ]
  },
  {
   "cell_type": "markdown",
   "id": "3db4abda-9555-4355-a924-cc83618eb9d4",
   "metadata": {},
   "source": [
    "**---------- PARTE 3: ANÁLISIS DE LA DATA ---------**"
   ]
  },
  {
   "cell_type": "code",
   "execution_count": 30,
   "id": "0ce3063f-bdbc-45b8-9cf9-dac376970321",
   "metadata": {},
   "outputs": [],
   "source": [
    "import matplotlib.pyplot as plt\n",
    "import seaborn as sns"
   ]
  },
  {
   "cell_type": "markdown",
   "id": "6695efad-88bc-4457-b389-a43d2946896d",
   "metadata": {},
   "source": [
    "***Estudio por subgrupos: distritos***"
   ]
  },
  {
   "cell_type": "code",
   "execution_count": 21,
   "id": "514ae62b-5830-47b0-9706-bbdbd80fae45",
   "metadata": {},
   "outputs": [
    {
     "data": {
      "text/html": [
       "<div>\n",
       "<style scoped>\n",
       "    .dataframe tbody tr th:only-of-type {\n",
       "        vertical-align: middle;\n",
       "    }\n",
       "\n",
       "    .dataframe tbody tr th {\n",
       "        vertical-align: top;\n",
       "    }\n",
       "\n",
       "    .dataframe thead tr th {\n",
       "        text-align: left;\n",
       "    }\n",
       "\n",
       "    .dataframe thead tr:last-of-type th {\n",
       "        text-align: right;\n",
       "    }\n",
       "</style>\n",
       "<table border=\"1\" class=\"dataframe\">\n",
       "  <thead>\n",
       "    <tr>\n",
       "      <th></th>\n",
       "      <th colspan=\"4\" halign=\"left\">time_cap</th>\n",
       "      <th colspan=\"4\" halign=\"left\">dist_salud</th>\n",
       "    </tr>\n",
       "    <tr>\n",
       "      <th></th>\n",
       "      <th>mean</th>\n",
       "      <th>std</th>\n",
       "      <th>min</th>\n",
       "      <th>max</th>\n",
       "      <th>mean</th>\n",
       "      <th>std</th>\n",
       "      <th>min</th>\n",
       "      <th>max</th>\n",
       "    </tr>\n",
       "    <tr>\n",
       "      <th>distrito</th>\n",
       "      <th></th>\n",
       "      <th></th>\n",
       "      <th></th>\n",
       "      <th></th>\n",
       "      <th></th>\n",
       "      <th></th>\n",
       "      <th></th>\n",
       "      <th></th>\n",
       "    </tr>\n",
       "  </thead>\n",
       "  <tbody>\n",
       "    <tr>\n",
       "      <th>CHUQUIS</th>\n",
       "      <td>60.000000</td>\n",
       "      <td>60.000000</td>\n",
       "      <td>0</td>\n",
       "      <td>120</td>\n",
       "      <td>7.320000</td>\n",
       "      <td>3.180047</td>\n",
       "      <td>3.65</td>\n",
       "      <td>9.26</td>\n",
       "    </tr>\n",
       "    <tr>\n",
       "      <th>LA UNION</th>\n",
       "      <td>96.666667</td>\n",
       "      <td>73.711148</td>\n",
       "      <td>40</td>\n",
       "      <td>180</td>\n",
       "      <td>9.393333</td>\n",
       "      <td>8.728770</td>\n",
       "      <td>1.06</td>\n",
       "      <td>18.47</td>\n",
       "    </tr>\n",
       "    <tr>\n",
       "      <th>MARIAS</th>\n",
       "      <td>150.000000</td>\n",
       "      <td>108.166538</td>\n",
       "      <td>30</td>\n",
       "      <td>240</td>\n",
       "      <td>5.306667</td>\n",
       "      <td>4.525089</td>\n",
       "      <td>0.10</td>\n",
       "      <td>8.29</td>\n",
       "    </tr>\n",
       "    <tr>\n",
       "      <th>PACHAS</th>\n",
       "      <td>215.000000</td>\n",
       "      <td>147.224319</td>\n",
       "      <td>45</td>\n",
       "      <td>300</td>\n",
       "      <td>19.226667</td>\n",
       "      <td>8.474706</td>\n",
       "      <td>11.60</td>\n",
       "      <td>28.35</td>\n",
       "    </tr>\n",
       "    <tr>\n",
       "      <th>QUIVILLA</th>\n",
       "      <td>20.000000</td>\n",
       "      <td>10.000000</td>\n",
       "      <td>10</td>\n",
       "      <td>30</td>\n",
       "      <td>5.950000</td>\n",
       "      <td>6.150024</td>\n",
       "      <td>0.93</td>\n",
       "      <td>12.81</td>\n",
       "    </tr>\n",
       "    <tr>\n",
       "      <th>RIPAN</th>\n",
       "      <td>133.333333</td>\n",
       "      <td>45.092498</td>\n",
       "      <td>90</td>\n",
       "      <td>180</td>\n",
       "      <td>6.210000</td>\n",
       "      <td>2.465299</td>\n",
       "      <td>4.02</td>\n",
       "      <td>8.88</td>\n",
       "    </tr>\n",
       "    <tr>\n",
       "      <th>SHUNQUI</th>\n",
       "      <td>65.000000</td>\n",
       "      <td>76.974022</td>\n",
       "      <td>0</td>\n",
       "      <td>150</td>\n",
       "      <td>2.843333</td>\n",
       "      <td>2.597736</td>\n",
       "      <td>0.11</td>\n",
       "      <td>5.28</td>\n",
       "    </tr>\n",
       "    <tr>\n",
       "      <th>SILLAPATA</th>\n",
       "      <td>76.666667</td>\n",
       "      <td>102.510162</td>\n",
       "      <td>15</td>\n",
       "      <td>195</td>\n",
       "      <td>3.576667</td>\n",
       "      <td>1.719079</td>\n",
       "      <td>1.93</td>\n",
       "      <td>5.36</td>\n",
       "    </tr>\n",
       "    <tr>\n",
       "      <th>YANAS</th>\n",
       "      <td>25.000000</td>\n",
       "      <td>22.912878</td>\n",
       "      <td>0</td>\n",
       "      <td>45</td>\n",
       "      <td>3.576667</td>\n",
       "      <td>4.493110</td>\n",
       "      <td>0.48</td>\n",
       "      <td>8.73</td>\n",
       "    </tr>\n",
       "  </tbody>\n",
       "</table>\n",
       "</div>"
      ],
      "text/plain": [
       "             time_cap                      dist_salud                        \n",
       "                 mean         std min  max       mean       std    min    max\n",
       "distrito                                                                     \n",
       "CHUQUIS     60.000000   60.000000   0  120   7.320000  3.180047   3.65   9.26\n",
       "LA UNION    96.666667   73.711148  40  180   9.393333  8.728770   1.06  18.47\n",
       "MARIAS     150.000000  108.166538  30  240   5.306667  4.525089   0.10   8.29\n",
       "PACHAS     215.000000  147.224319  45  300  19.226667  8.474706  11.60  28.35\n",
       "QUIVILLA    20.000000   10.000000  10   30   5.950000  6.150024   0.93  12.81\n",
       "RIPAN      133.333333   45.092498  90  180   6.210000  2.465299   4.02   8.88\n",
       "SHUNQUI     65.000000   76.974022   0  150   2.843333  2.597736   0.11   5.28\n",
       "SILLAPATA   76.666667  102.510162  15  195   3.576667  1.719079   1.93   5.36\n",
       "YANAS       25.000000   22.912878   0   45   3.576667  4.493110   0.48   8.73"
      ]
     },
     "execution_count": 21,
     "metadata": {},
     "output_type": "execute_result"
    }
   ],
   "source": [
    "# Estadísticas descriptivas a nivel de distrito\n",
    "agg_data = datos_df.groupby(\"distrito\")[[\"time_cap\", \"dist_salud\"]].agg([\"mean\", \"std\", \"min\", \"max\"])\n",
    "agg_data"
   ]
  },
  {
   "cell_type": "code",
   "execution_count": 24,
   "id": "5f16ed24-a0c0-47d3-b97c-3270bcc4e601",
   "metadata": {},
   "outputs": [
    {
     "data": {
      "image/png": "[encoded data removed]",
      "text/plain": [
       "<Figure size 1200x600 with 1 Axes>"
      ]
     },
     "metadata": {},
     "output_type": "display_data"
    }
   ],
   "source": [
    "#boxplots por cada distrito\n",
    "\n",
    "# Crear boxplot por distrito\n",
    "plt.figure(figsize=(12, 6))\n",
    "sns.boxplot(x=\"distrito\", y=\"dist_salud\", data=datos_df)\n",
    "\n",
    "# Mejorar visualización\n",
    "plt.xticks(rotation=45)  # Rotar etiquetas del eje X en 45°\n",
    "plt.title(\"Distribución de la distancia al centro de salud por distrito\")\n",
    "plt.xlabel(\"Distrito\")\n",
    "plt.ylabel(\"Distancia al centro de salud (Km)\")\n",
    "plt.grid(axis=\"y\", linestyle=\"--\", alpha=0.7)  # Agregar una ligera rejilla\n",
    "\n",
    "plt.show()\n"
   ]
  },
  {
   "cell_type": "code",
   "execution_count": 23,
   "id": "cd0def7c-ed9d-4d5a-afc9-62c7a57582e9",
   "metadata": {},
   "outputs": [
    {
     "data": {
      "image/png": "[encoded data removed]",
      "text/plain": [
       "<Figure size 1000x600 with 1 Axes>"
      ]
     },
     "metadata": {},
     "output_type": "display_data"
    }
   ],
   "source": [
    "# Scatter plot\n",
    "\n",
    "# Colores para cada distrito\n",
    "colors = {'CHUQUIS': 'orange', 'LA UNION': 'purple', 'MARIAS': 'blue',\n",
    "          'PACHAS': 'red', 'QUIVILLA': 'pink', 'RIPAN': 'brown',\n",
    "          'SHUNQUI': 'green', 'SILLAPATA': 'yellow','YANAS': 'grey'}\n",
    "color_list = [colors[group] for group in datos_df['distrito']]\n",
    "\n",
    "# Crear scatter plot con puntos coloreados según distrito\n",
    "ax = datos_df.plot.scatter('time_cap',\n",
    "                'dist_salud',\n",
    "                c=color_list,\n",
    "                grid=True,\n",
    "                figsize=(10,6))\n",
    "\n",
    "# Crear leyenda de colores para cada distrito\n",
    "import matplotlib.patches as mpatches\n",
    "legend_handles = [\n",
    "    mpatches.Patch(color=colors['CHUQUIS'], label='Chuquis'),\n",
    "    mpatches.Patch(color=colors['LA UNION'], label='La Unión'), # add as many as needed\n",
    "    mpatches.Patch(color=colors['MARIAS'], label='MarÍas'),\n",
    "    mpatches.Patch(color=colors['PACHAS'], label='Pachas'),\n",
    "    mpatches.Patch(color=colors['QUIVILLA'], label='Quivilla'),\n",
    "    mpatches.Patch(color=colors['RIPAN'], label='Ripan'),\n",
    "    mpatches.Patch(color=colors['SHUNQUI'], label='Shunqui'),\n",
    "    mpatches.Patch(color=colors['SILLAPATA'], label='Sillapata'),\n",
    "    mpatches.Patch(color=colors['YANAS'], label='Yanas'),\n",
    "]\n",
    "ax.legend(handles=legend_handles,\n",
    "          loc='lower right')\n",
    "\n",
    "# Añadir titulo y nombres de ejes ('\\n' allow us to jump rows)\n",
    "ax.set_title('Conectividad con capital distrital y a centros de salud \\n Centros poblados del dpto. Huánuco, prov. 2 de Mayo, Censo 2017',\n",
    "             weight='bold')\n",
    "ax.set_xlabel('Tiempo a la capital distrital (minutos)')\n",
    "ax.set_ylabel('Distancia a centro de salud más cercano (Km)')\n",
    "\n",
    "plt.show()"
   ]
  },
  {
   "cell_type": "markdown",
   "id": "0f382767-e74b-4dd0-9b96-7c6c17d29bdb",
   "metadata": {},
   "source": [
    "***Matriz de correlacion***"
   ]
  },
  {
   "cell_type": "code",
   "execution_count": 31,
   "id": "0beb7b58-1040-462d-bc0c-47f944825418",
   "metadata": {},
   "outputs": [
    {
     "name": "stdout",
     "output_type": "stream",
     "text": [
      "            time_cap  dist_salud\n",
      "time_cap    1.000000    0.569259\n",
      "dist_salud  0.569259    1.000000\n"
     ]
    }
   ],
   "source": [
    "correlacion = datos_df[[\"time_cap\", \"dist_salud\"]].corr()\n",
    "print(correlacion)"
   ]
  },
  {
   "cell_type": "code",
   "execution_count": 32,
   "id": "a7d258d9-92e2-4135-98ac-62817b93c8df",
   "metadata": {},
   "outputs": [
    {
     "name": "stdout",
     "output_type": "stream",
     "text": [
      "distrito\n",
      "CHUQUIS     -0.882062\n",
      "LA UNION     0.970173\n",
      "MARIAS      -0.320862\n",
      "PACHAS       0.779365\n",
      "QUIVILLA     0.965850\n",
      "RIPAN       -0.406148\n",
      "SHUNQUI      0.947323\n",
      "SILLAPATA    0.887417\n",
      "YANAS        0.301360\n",
      "Name: correlacion, dtype: float64\n"
     ]
    }
   ],
   "source": [
    "# Matriz de correlacion por distrito\n",
    "correlaciones = datos_df.groupby(\"distrito\")[[\"time_cap\", \"dist_salud\"]].corr().unstack().iloc[:, 1]\n",
    "# se selecciona solo la primera fila para evitar ver la matriz cuadrada con valores duplicados\n",
    "correlaciones.name = \"correlacion\"\n",
    "\n",
    "print(correlaciones)"
   ]
  },
  {
   "cell_type": "code",
   "execution_count": 30,
   "id": "9db5ed2d-a1d1-4e92-b28b-8c381519a017",
   "metadata": {},
   "outputs": [
    {
     "name": "stderr",
     "output_type": "stream",
     "text": [
      "C:\\Users\\maria\\AppData\\Local\\Temp\\ipykernel_14416\\1620098087.py:5: FutureWarning: \n",
      "\n",
      "Passing `palette` without assigning `hue` is deprecated and will be removed in v0.14.0. Assign the `x` variable to `hue` and set `legend=False` for the same effect.\n",
      "\n",
      "  sns.barplot(x=correlaciones.index, y=correlaciones.values, palette=\"coolwarm\")\n"
     ]
    },
    {
     "data": {
      "image/png": "[encoded data removed]",
      "text/plain": [
       "<Figure size 1200x600 with 1 Axes>"
      ]
     },
     "metadata": {},
     "output_type": "display_data"
    }
   ],
   "source": [
    "plt.figure(figsize=(12, 6))\n",
    "sns.barplot(x=correlaciones.index, y=correlaciones.values, palette=\"coolwarm\")\n",
    "\n",
    "plt.xticks(rotation=45)  # Rotar nombre de ccpps 45°\n",
    "plt.title(\"Correlación entre tiempo a capital y distancia a centro de salud por distrito\")\n",
    "plt.xlabel(\"Distrito\")\n",
    "plt.ylabel(\"Correlación de Pearson\")\n",
    "plt.axhline(0, color=\"black\", linestyle=\"--\", alpha=0.7)  # Línea de referencia eje 0\n",
    "plt.show()"
   ]
  },
  {
   "cell_type": "markdown",
   "id": "a1837a1a-10a2-48cc-8515-f7937e07c840",
   "metadata": {},
   "source": [
    "***Prueba de hipótesis***"
   ]
  },
  {
   "cell_type": "code",
   "execution_count": 18,
   "id": "cb777155-23ec-4f0e-8cb6-37ff20e6d0ce",
   "metadata": {},
   "outputs": [
    {
     "name": "stdout",
     "output_type": "stream",
     "text": [
      "correlacion de pearson:0.569259242111153\n",
      "p-value: 0.001941882965767248\n"
     ]
    }
   ],
   "source": [
    "# TEST DE HIPÓTESIS: Significancia de la correlación\n",
    "import scipy.stats as stats\n",
    "\n",
    "# Calcular correlación y p-valor\n",
    "r, p_value = stats.pearsonr(datos_df[\"time_cap\"], datos_df[\"dist_salud\"])\n",
    "\n",
    "print(f\"correlacion de pearson:{r}\")\n",
    "print(f\"p-value: {p_value}\")"
   ]
  },
  {
   "cell_type": "markdown",
   "id": "b0722422-89b6-4c27-ad03-0329edc47bee",
   "metadata": {},
   "source": [
    "H0: correlacion = 0\n",
    "H1: correlacion != 0\n",
    "Interpretación\n",
    "- Si p_value < 0.05: se rechaza H0 y se acepta H1, correlación es estadísticamente significativa (diferente de 0)\n",
    "- si p-value >=0.05: se acepta H0, no hay suficiente evidencia para rechazar H0 (correlación no es significativamente diferente de 0).\n",
    "- En este caso, con nivel de confianza de 5%, se rechaza H0 y se acepta que la correlación entre tiempo a la capital distrital y distancia a centro de salud es estadísticamente significativa."
   ]
  },
  {
   "cell_type": "code",
   "execution_count": 11,
   "id": "1f96f092-3b0a-47f9-a367-727c0a90ddec",
   "metadata": {},
   "outputs": [
    {
     "data": {
      "image/png": "[encoded data removed]",
      "text/plain": [
       "<Figure size 1000x600 with 1 Axes>"
      ]
     },
     "metadata": {},
     "output_type": "display_data"
    }
   ],
   "source": [
    "# Regresión lineal\n",
    "from scipy.stats import linregress\n",
    "\n",
    "x = datos_df['time_cap']\n",
    "y = datos_df['dist_salud']\n",
    "\n",
    "# Ajustar una regresión lineal\n",
    "slope, intercept, r_value, p_value, std_err = linregress(x, y)\n",
    "r_squared = r_value ** 2  # Calcular R²\n",
    "\n",
    "# Crear scatterplot\n",
    "fig, ax = plt.subplots(figsize=(10, 6))\n",
    "ax.scatter(x, y, color='darkblue', label=\"Centros poblados\")\n",
    "ax.plot(x, slope*x + intercept, color='red', label=\"Regresión lineal\")  # Línea de tendencia\n",
    "\n",
    "# Agregar título y etiquetas\n",
    "ax.set_title('Tiempo a capital de distrito y distancia a centro de salud')\n",
    "ax.set_xlabel('Tiempo a capital de distrito (minutos)')\n",
    "ax.set_ylabel('Distancia a centro de salud más cercano (KM)')\n",
    "\n",
    "# Mostrar R² en el gráfico\n",
    "ax.text(0.05, 0.9, f\"$R^2$ = {r_squared:.2f}\", transform=ax.transAxes, fontsize=12, color='black')\n",
    "\n",
    "# Mostrar leyenda\n",
    "ax.legend()\n",
    "\n",
    "plt.show()\n"
   ]
  },
  {
   "cell_type": "code",
   "execution_count": null,
   "id": "0cb7237f-70f6-4cdf-a19b-8d3a5a1364d9",
   "metadata": {},
   "outputs": [],
   "source": []
  },
  {
   "cell_type": "code",
   "execution_count": null,
   "id": "e155a83a-9286-4541-b1b1-96006df2c55c",
   "metadata": {},
   "outputs": [],
   "source": []
  }
 ],
 "metadata": {
  "kernelspec": {
   "display_name": "Python 3 (ipykernel)",
   "language": "python",
   "name": "python3"
  },
  "language_info": {
   "codemirror_mode": {
    "name": "ipython",
    "version": 3
   },
   "file_extension": ".py",
   "mimetype": "text/x-python",
   "name": "python",
   "nbconvert_exporter": "python",
   "pygments_lexer": "ipython3",
   "version": "3.10.4"
  }
 },
 "nbformat": 4,
 "nbformat_minor": 5
}
